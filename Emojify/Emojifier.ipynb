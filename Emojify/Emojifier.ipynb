{
  "nbformat": 4,
  "nbformat_minor": 0,
  "metadata": {
    "colab": {
      "name": "Emojifier.ipynb",
      "provenance": []
    },
    "kernelspec": {
      "name": "python3",
      "display_name": "Python 3"
    },
    "language_info": {
      "name": "python"
    },
    "accelerator": "GPU"
  },
  "cells": [
    {
      "cell_type": "markdown",
      "source": [
        "#Emojifier\n",
        "\n",
        "A great worrier who can fight and make things more expressible to the world.\n",
        "\n",
        "Welcome to the world of Emojifier!!\n",
        "\n",
        "\n",
        "\"Congratulations on the promotion! Let's get coffee and talk. Love you!\"\n",
        "\n",
        "The emojifier can automatically turn this into:\n",
        "\n",
        "\"Congratulations on the promotion! 👍 Let's get coffee and talk. ☕️ Love you! ❤️\"\n",
        "\n"
      ],
      "metadata": {
        "id": "NHzIvgKOpeCi"
      }
    },
    {
      "cell_type": "markdown",
      "source": [
        "**There are two parts of this project** \n",
        "\n",
        "the first emojifier will be build using word vector representation (a naive one)\n",
        "\n",
        "Later a more sophisticated model will be build that further incorporates an LSTM."
      ],
      "metadata": {
        "id": "9QR7KhT8qrYJ"
      }
    },
    {
      "cell_type": "markdown",
      "source": [
        "\n",
        "# Packages"
      ],
      "metadata": {
        "id": "Nh3Ryf7IsP8B"
      }
    },
    {
      "cell_type": "code",
      "source": [
        "#!pip install emoji"
      ],
      "metadata": {
        "id": "0TcmsC9HsZJd"
      },
      "execution_count": 3,
      "outputs": []
    },
    {
      "cell_type": "code",
      "execution_count": 4,
      "metadata": {
        "id": "XofX4e5RoHxn"
      },
      "outputs": [],
      "source": [
        "import numpy as np\n",
        "from emo_utils import *\n",
        "import emoji\n",
        "import matplotlib.pyplot as plt\n",
        "from test_utils import *\n",
        "\n",
        "%matplotlib inline"
      ]
    },
    {
      "cell_type": "markdown",
      "source": [
        "#1 - Baseline Model: Emojifier-V1"
      ],
      "metadata": {
        "id": "EDnL9Pm3sjRZ"
      }
    },
    {
      "cell_type": "markdown",
      "source": [
        "#1.1 - Dataset EMOJISET\n",
        "Let's start by building a simple baseline classifier.\n",
        "\n",
        "We have a tiny dataset (X, Y) where:\n",
        "\n",
        "   1.X contains 127 sentences (strings).\n",
        "   2.Y contains an integer label between 0 and 4 corresponding to an emoji for each sentence.\n",
        "\n",
        "\n",
        "\n",
        "![](https://raw.githubusercontent.com/amanchadha/coursera-deep-learning-specialization/3a623a00267716d1695e0ce57480f9027648ad4e/C5%20-%20Sequence%20Models/Week%202/Emojify/images/data_set.png)\n",
        "\n"
      ],
      "metadata": {
        "id": "aeooRRXvs5D6"
      }
    },
    {
      "cell_type": "code",
      "source": [
        "# load the dataset\n",
        "X_train, Y_train = read_csv('/content/train_emoji.csv')\n",
        "X_test, Y_test = read_csv('/content/tesss.csv')"
      ],
      "metadata": {
        "id": "SW5IAhXYsVT5"
      },
      "execution_count": 7,
      "outputs": []
    },
    {
      "cell_type": "code",
      "source": [
        "# some of the data points and their labels\n",
        "for idx in range(10):\n",
        "    print(X_train[idx], label_to_emoji(Y_train[idx]))"
      ],
      "metadata": {
        "colab": {
          "base_uri": "https://localhost:8080/"
        },
        "id": "uiEn6vUWuySI",
        "outputId": "5a6c4a19-9a73-4398-f591-c4202366e21d"
      },
      "execution_count": 8,
      "outputs": [
        {
          "output_type": "stream",
          "name": "stdout",
          "text": [
            "never talk to me again 😞\n",
            "I am proud of your achievements 😄\n",
            "It is the worst day in my life 😞\n",
            "Miss you so much ❤️\n",
            "food is life 🍴\n",
            "I love you mum ❤️\n",
            "Stop saying bullshit 😞\n",
            "congratulations on your acceptance 😄\n",
            "The assignment is too long  😞\n",
            "I want to go play ⚾\n"
          ]
        }
      ]
    },
    {
      "cell_type": "markdown",
      "source": [
        "#1.2 Overview of the Emojifier-V1\n",
        "\n",
        "![](https://raw.githubusercontent.com/amanchadha/coursera-deep-learning-specialization/3a623a00267716d1695e0ce57480f9027648ad4e/C5%20-%20Sequence%20Models/Week%202/Emojify/images/image_1.png)\n",
        "\n",
        "\n"
      ],
      "metadata": {
        "id": "YKnH04VwwlPQ"
      }
    },
    {
      "cell_type": "markdown",
      "source": [
        "# 1.3 Emojifier-V1 implementation\n"
      ],
      "metadata": {
        "id": "A2lDlRSE2YiA"
      }
    },
    {
      "cell_type": "code",
      "source": [
        "# one hot encoding of class labels \n",
        "Y_oh_train = convert_to_one_hot(Y_train, C = 5)\n",
        "Y_oh_test = convert_to_one_hot(Y_test, C = 5)"
      ],
      "metadata": {
        "id": "Agj0_xxvvEyu"
      },
      "execution_count": 24,
      "outputs": []
    },
    {
      "cell_type": "code",
      "source": [
        "# extract the word vector representation from glove\n",
        "word_to_index, index_to_word, word_to_vec_map = read_glove_vecs('/content/glove.6B.50d.txt')"
      ],
      "metadata": {
        "id": "OEMoS7kwwOjG"
      },
      "execution_count": 28,
      "outputs": []
    },
    {
      "cell_type": "code",
      "source": [
        "def sentence_to_avg(sentence, word_to_vec_map):\n",
        "    \"\"\"\n",
        "    Converts a sentence (string) into a list of words (strings). Extracts the GloVe representation of each word\n",
        "    and averages its value into a single vector encoding the meaning of the sentence.\n",
        "    \n",
        "    Arguments:\n",
        "    sentence -- string, one training example from X\n",
        "    word_to_vec_map -- dictionary mapping every word in a vocabulary into its 50-dimensional vector representation\n",
        "    \n",
        "    Returns:\n",
        "    avg -- average vector encoding information about the sentence, numpy-array of shape (50,)\n",
        "    \"\"\"\n",
        "    any_word = list(word_to_vec_map.keys())[0]\n",
        "    words = sentence.lower().split()\n",
        "    avg = np.zeros(word_to_vec_map[any_word].shape)\n",
        "    count = 0\n",
        "    for w in words:\n",
        "        if w  in word_to_vec_map:\n",
        "            avg += word_to_vec_map[w]\n",
        "            # Increment count\n",
        "            count +=1\n",
        "          \n",
        "    if count > 0:\n",
        "        # Get the average. But only if count > 0\n",
        "        avg = avg/count\n",
        "    return avg"
      ],
      "metadata": {
        "id": "XHZZFvpJw9hZ"
      },
      "execution_count": 29,
      "outputs": []
    },
    {
      "cell_type": "markdown",
      "source": [
        "# 1.4 Model implementation\n",
        "\n",
        "\\begin{align}\n",
        "z^{(i)} = W . avg^{(i)} + b\n",
        "\\end{align}\n",
        "\\begin{align}\n",
        "a^{(i)} = softmax(z^{(i)})\n",
        "\\end{align}\n",
        "\\begin{align}\n",
        "\\mathcal{L}^{(i)} = - \\sum_{k = 0}^{n_y - 1} Y_{oh,k}^{(i)} * log(a^{(i)}_k)\n",
        "\\end{align}\n",
        "\n",
        "The variable $Y_{oh}$\n",
        " (\"Y one hot\") is the one-hot encoding of the output labels."
      ],
      "metadata": {
        "id": "w2itAdTq3xvV"
      }
    },
    {
      "cell_type": "code",
      "source": [
        "def model(X, Y, word_to_vec_map, learning_rate = 0.01, num_iterations = 200):\n",
        "    \"\"\"\n",
        "    Model to train word vector representations in numpy.\n",
        "    \n",
        "    Arguments:\n",
        "    X -- input data, numpy array of sentences as strings, of shape (m, 1)\n",
        "    Y -- labels, numpy array of integers between 0 and 7, numpy-array of shape (m, 1)\n",
        "    word_to_vec_map -- dictionary mapping every word in a vocabulary into its 50-dimensional vector representation\n",
        "    learning_rate -- learning_rate for the stochastic gradient descent algorithm\n",
        "    num_iterations -- number of iterations\n",
        "    \n",
        "    Returns:\n",
        "    pred -- vector of predictions, numpy-array of shape (m, 1)\n",
        "    W -- weight matrix of the softmax layer, of shape (n_y, n_h)\n",
        "    b -- bias of the softmax layer, of shape (n_y,)\n",
        "    \"\"\"\n",
        "    \n",
        "    any_word = list(word_to_vec_map.keys())[0]\n",
        "    cost = 0\n",
        "    # Define number of training examples\n",
        "    m = Y.shape[0]                             # number of training examples\n",
        "    n_y = len(np.unique(Y))                    # number of classes  \n",
        "    n_h = word_to_vec_map[any_word].shape[0]   # dimensions of the GloVe vectors \n",
        "    \n",
        "    # Initialize parameters using Xavier initialization\n",
        "    W = np.random.randn(n_y, n_h) / np.sqrt(n_h)\n",
        "    b = np.zeros((n_y,))\n",
        "    \n",
        "    # Convert Y to Y_onehot with n_y classes\n",
        "    Y_oh = convert_to_one_hot(Y, C = n_y) \n",
        "    \n",
        "    # Optimization loop\n",
        "    for t in range(num_iterations): # Loop over the number of iterations\n",
        "        for i in range(m):          # Loop over the training examples\n",
        "            avg = sentence_to_avg(X[i], word_to_vec_map)\n",
        "\n",
        "            # Forward propagate the avg through the softmax layer\n",
        "            z = np.add(np.dot(W,avg),b)\n",
        "            a = softmax(z)\n",
        "\n",
        "            # Compute cost using the ith training label's one hot representation and \"A\" (the output of the softmax)\n",
        "            cost = -np.sum(np.dot(Y_oh[i], np.log(a)))\n",
        "            # Compute gradients \n",
        "            dz = a - Y_oh[i]\n",
        "            dW = np.dot(dz.reshape(n_y,1), avg.reshape(1, n_h))\n",
        "            db = dz\n",
        "\n",
        "            # Update parameters with Stochastic Gradient Descent\n",
        "            W = W - learning_rate * dW\n",
        "            b = b - learning_rate * db\n",
        "        \n",
        "        if t % 10 == 0:\n",
        "            print(\"Epoch: \" + str(t) + \" --- cost = \" + str(cost))\n",
        "            pred = predict(X, Y, W, b, word_to_vec_map) #predict is defined in emo_utils.py\n",
        "\n",
        "    return pred, W, b"
      ],
      "metadata": {
        "id": "oT1fAtv23XbJ"
      },
      "execution_count": 30,
      "outputs": []
    },
    {
      "cell_type": "code",
      "source": [
        "#training\n",
        "np.random.seed(1)\n",
        "pred, W, b = model(X_train, Y_train, word_to_vec_map)\n",
        "print(pred)"
      ],
      "metadata": {
        "colab": {
          "base_uri": "https://localhost:8080/"
        },
        "id": "I05tWmLB6rdu",
        "outputId": "57b659aa-ec2c-472f-f2aa-f74951ae17b6"
      },
      "execution_count": 31,
      "outputs": [
        {
          "output_type": "stream",
          "name": "stdout",
          "text": [
            "Epoch: 0 --- cost = 1.9520498812810076\n",
            "Accuracy: 0.3484848484848485\n",
            "Epoch: 10 --- cost = 1.0040987758894053\n",
            "Accuracy: 0.7272727272727273\n",
            "Epoch: 20 --- cost = 0.5388772571119417\n",
            "Accuracy: 0.803030303030303\n",
            "Epoch: 30 --- cost = 0.33312189973650763\n",
            "Accuracy: 0.803030303030303\n",
            "Epoch: 40 --- cost = 0.2314476628942315\n",
            "Accuracy: 0.8257575757575758\n",
            "Epoch: 50 --- cost = 0.1747265584802319\n",
            "Accuracy: 0.8560606060606061\n",
            "Epoch: 60 --- cost = 0.13985752584011937\n",
            "Accuracy: 0.8787878787878788\n",
            "Epoch: 70 --- cost = 0.11677061223976795\n",
            "Accuracy: 0.8939393939393939\n",
            "Epoch: 80 --- cost = 0.10058743375666776\n",
            "Accuracy: 0.9090909090909091\n",
            "Epoch: 90 --- cost = 0.08872634092095644\n",
            "Accuracy: 0.9242424242424242\n",
            "Epoch: 100 --- cost = 0.07971818726014794\n",
            "Accuracy: 0.9318181818181818\n",
            "Epoch: 110 --- cost = 0.07267535951826085\n",
            "Accuracy: 0.9318181818181818\n",
            "Epoch: 120 --- cost = 0.0670345060004128\n",
            "Accuracy: 0.9318181818181818\n",
            "Epoch: 130 --- cost = 0.06242326850488144\n",
            "Accuracy: 0.9318181818181818\n",
            "Epoch: 140 --- cost = 0.05858708329632528\n",
            "Accuracy: 0.9393939393939394\n",
            "Epoch: 150 --- cost = 0.055346878990539604\n",
            "Accuracy: 0.9393939393939394\n",
            "Epoch: 160 --- cost = 0.052573552521839984\n",
            "Accuracy: 0.9393939393939394\n",
            "Epoch: 170 --- cost = 0.05017200064054583\n",
            "Accuracy: 0.9393939393939394\n",
            "Epoch: 180 --- cost = 0.04807081857515234\n",
            "Accuracy: 0.946969696969697\n",
            "Epoch: 190 --- cost = 0.04621547640746077\n",
            "Accuracy: 0.9545454545454546\n",
            "[[3.]\n",
            " [2.]\n",
            " [3.]\n",
            " [0.]\n",
            " [4.]\n",
            " [0.]\n",
            " [3.]\n",
            " [2.]\n",
            " [3.]\n",
            " [1.]\n",
            " [3.]\n",
            " [3.]\n",
            " [1.]\n",
            " [3.]\n",
            " [2.]\n",
            " [3.]\n",
            " [2.]\n",
            " [3.]\n",
            " [1.]\n",
            " [2.]\n",
            " [3.]\n",
            " [0.]\n",
            " [2.]\n",
            " [2.]\n",
            " [2.]\n",
            " [1.]\n",
            " [4.]\n",
            " [3.]\n",
            " [3.]\n",
            " [4.]\n",
            " [0.]\n",
            " [3.]\n",
            " [4.]\n",
            " [2.]\n",
            " [0.]\n",
            " [3.]\n",
            " [2.]\n",
            " [2.]\n",
            " [3.]\n",
            " [4.]\n",
            " [2.]\n",
            " [2.]\n",
            " [0.]\n",
            " [2.]\n",
            " [3.]\n",
            " [0.]\n",
            " [3.]\n",
            " [2.]\n",
            " [4.]\n",
            " [3.]\n",
            " [0.]\n",
            " [3.]\n",
            " [3.]\n",
            " [3.]\n",
            " [4.]\n",
            " [2.]\n",
            " [1.]\n",
            " [1.]\n",
            " [1.]\n",
            " [2.]\n",
            " [3.]\n",
            " [1.]\n",
            " [0.]\n",
            " [0.]\n",
            " [0.]\n",
            " [3.]\n",
            " [4.]\n",
            " [4.]\n",
            " [2.]\n",
            " [2.]\n",
            " [1.]\n",
            " [2.]\n",
            " [0.]\n",
            " [3.]\n",
            " [2.]\n",
            " [2.]\n",
            " [0.]\n",
            " [3.]\n",
            " [3.]\n",
            " [1.]\n",
            " [2.]\n",
            " [1.]\n",
            " [2.]\n",
            " [2.]\n",
            " [4.]\n",
            " [2.]\n",
            " [3.]\n",
            " [2.]\n",
            " [4.]\n",
            " [0.]\n",
            " [0.]\n",
            " [3.]\n",
            " [3.]\n",
            " [3.]\n",
            " [3.]\n",
            " [2.]\n",
            " [3.]\n",
            " [1.]\n",
            " [2.]\n",
            " [3.]\n",
            " [0.]\n",
            " [2.]\n",
            " [2.]\n",
            " [2.]\n",
            " [3.]\n",
            " [2.]\n",
            " [2.]\n",
            " [2.]\n",
            " [4.]\n",
            " [1.]\n",
            " [1.]\n",
            " [3.]\n",
            " [3.]\n",
            " [4.]\n",
            " [1.]\n",
            " [2.]\n",
            " [1.]\n",
            " [1.]\n",
            " [3.]\n",
            " [1.]\n",
            " [0.]\n",
            " [4.]\n",
            " [0.]\n",
            " [3.]\n",
            " [3.]\n",
            " [4.]\n",
            " [4.]\n",
            " [1.]\n",
            " [4.]\n",
            " [3.]\n",
            " [0.]\n",
            " [2.]]\n"
          ]
        }
      ]
    },
    {
      "cell_type": "markdown",
      "source": [
        "#1.5 Test set performance\n"
      ],
      "metadata": {
        "id": "SorOmQmx8TLV"
      }
    },
    {
      "cell_type": "code",
      "source": [
        "print(\"Training set:\")\n",
        "pred_train = predict(X_train, Y_train, W, b, word_to_vec_map)\n",
        "print('Test set:')\n",
        "pred_test = predict(X_test, Y_test, W, b, word_to_vec_map)"
      ],
      "metadata": {
        "colab": {
          "base_uri": "https://localhost:8080/"
        },
        "id": "iH-ubnQM72mp",
        "outputId": "d1c906f7-75ef-4a05-d1fa-ab341de2fb12"
      },
      "execution_count": 32,
      "outputs": [
        {
          "output_type": "stream",
          "name": "stdout",
          "text": [
            "Training set:\n",
            "Accuracy: 0.9545454545454546\n",
            "Test set:\n",
            "Accuracy: 0.8571428571428571\n"
          ]
        }
      ]
    },
    {
      "cell_type": "code",
      "source": [
        "def predict_single(sentence, W=W, b=b, word_to_vec_map=word_to_vec_map):\n",
        "    \"\"\"\n",
        "    Arguments:\n",
        "    sentence : a single english sentence\n",
        "    \n",
        "    Returns:\n",
        "    pred --an integer\n",
        "    \"\"\"\n",
        "\n",
        "    any_word = list(word_to_vec_map.keys())[0]\n",
        "    # number of classes  \n",
        "    n_h = word_to_vec_map[any_word].shape[0] \n",
        "    words = sentence.lower().split()\n",
        "\n",
        "    # Average words' vectors\n",
        "    avg = np.zeros((n_h,))\n",
        "    count = 0\n",
        "    for w in words:\n",
        "        if w in word_to_vec_map:\n",
        "            avg += word_to_vec_map[w]\n",
        "            count += 1\n",
        "\n",
        "    if count > 0:\n",
        "        avg = avg / count\n",
        "\n",
        "    # Forward propagation\n",
        "    Z = np.dot(W, avg) + b\n",
        "    A = softmax(Z)\n",
        "    pred = np.argmax(A)\n",
        "    \n",
        "    return pred"
      ],
      "metadata": {
        "id": "ztEUyJ2j8l8W"
      },
      "execution_count": 33,
      "outputs": []
    },
    {
      "cell_type": "code",
      "source": [
        "label_to_emoji(int(predict_single(\"I hate you\")))"
      ],
      "metadata": {
        "colab": {
          "base_uri": "https://localhost:8080/",
          "height": 35
        },
        "id": "1UDAHXXJ9mFz",
        "outputId": "f3b6fd78-9bc4-4194-a1bc-7ad31fe9dc6f"
      },
      "execution_count": 36,
      "outputs": [
        {
          "output_type": "execute_result",
          "data": {
            "text/plain": [
              "'😞'"
            ],
            "application/vnd.google.colaboratory.intrinsic+json": {
              "type": "string"
            }
          },
          "metadata": {},
          "execution_count": 36
        }
      ]
    },
    {
      "cell_type": "code",
      "source": [
        "X_my_sentences = np.array([\"i adore you\", \"i love you\", \"funny lol\", \"lets play with a ball\", \"food is ready\", \"not feeling happy\"])\n",
        "Y_my_labels = np.array([[0], [0], [2], [1], [4],[3]])\n",
        "\n",
        "pred = predict(X_my_sentences, Y_my_labels , W, b, word_to_vec_map)\n",
        "print_predictions(X_my_sentences, pred)"
      ],
      "metadata": {
        "colab": {
          "base_uri": "https://localhost:8080/"
        },
        "id": "d2_RfoGh9r5Y",
        "outputId": "61614036-e641-46c7-e77a-797f473823eb"
      },
      "execution_count": 37,
      "outputs": [
        {
          "output_type": "stream",
          "name": "stdout",
          "text": [
            "Accuracy: 0.8333333333333334\n",
            "\n",
            "i adore you ❤️\n",
            "i love you ❤️\n",
            "funny lol 😄\n",
            "lets play with a ball ⚾\n",
            "food is ready 🍴\n",
            "not feeling happy 😄\n"
          ]
        }
      ]
    },
    {
      "cell_type": "code",
      "source": [
        "print(Y_test.shape)\n",
        "print('           '+ label_to_emoji(0)+ '    ' + label_to_emoji(1) + '    ' +  label_to_emoji(2)+ '    ' + label_to_emoji(3)+'   ' + label_to_emoji(4))\n",
        "print(pd.crosstab(Y_test, pred_test.reshape(56,), rownames=['Actual'], colnames=['Predicted'], margins=True))\n",
        "plot_confusion_matrix(Y_test, pred_test)"
      ],
      "metadata": {
        "colab": {
          "base_uri": "https://localhost:8080/",
          "height": 437
        },
        "id": "EUnpcO7_-J64",
        "outputId": "030fbec1-d9ee-49d7-8f56-e48b23d5b11a"
      },
      "execution_count": 38,
      "outputs": [
        {
          "output_type": "stream",
          "name": "stdout",
          "text": [
            "(56,)\n",
            "           ❤️    ⚾    😄    😞   🍴\n",
            "Predicted  0.0  1.0  2.0  3.0  4.0  All\n",
            "Actual                                 \n",
            "0            6    0    0    1    0    7\n",
            "1            0    8    0    0    0    8\n",
            "2            2    0   16    0    0   18\n",
            "3            1    1    2   12    0   16\n",
            "4            0    0    1    0    6    7\n",
            "All          9    9   19   13    6   56\n"
          ]
        },
        {
          "output_type": "display_data",
          "data": {
            "text/plain": [
              "<Figure size 288x288 with 2 Axes>"
            ],
            "image/png": "[encoded data removed]"
          },
          "metadata": {
            "needs_background": "light"
          }
        }
      ]
    },
    {
      "cell_type": "markdown",
      "source": [
        "# 2.Emojifier-V2: Using LSTMs in Keras\n",
        "\n",
        "The previous algorithm did not care about ordering of words ,it's just take the average of all vectors(representation of a word) in a sentence.This way it will perform poorly for a sentence like \"not happy\".\n"
      ],
      "metadata": {
        "id": "DpQHRrRC_0nD"
      }
    },
    {
      "cell_type": "markdown",
      "source": [
        "#Packages"
      ],
      "metadata": {
        "id": "RM0Fxt1WB1PD"
      }
    },
    {
      "cell_type": "code",
      "source": [
        "import numpy as np\n",
        "import tensorflow\n",
        "np.random.seed(0)\n",
        "from tensorflow.keras.models import Model\n",
        "from tensorflow.keras.layers import Dense, Input, Dropout, LSTM, Activation\n",
        "from tensorflow.keras.layers import Embedding\n",
        "from tensorflow.keras.preprocessing import sequence\n",
        "from tensorflow.keras.initializers import glorot_uniform\n",
        "np.random.seed(1)"
      ],
      "metadata": {
        "id": "rxuxzYpf-d-w"
      },
      "execution_count": 40,
      "outputs": []
    },
    {
      "cell_type": "markdown",
      "source": [
        "#2.1 Model Overview\n",
        "\n",
        "![](https://raw.githubusercontent.com/amanchadha/coursera-deep-learning-specialization/3a623a00267716d1695e0ce57480f9027648ad4e/C5%20-%20Sequence%20Models/Week%202/Emojify/images/emojifier-v2.png)\n"
      ],
      "metadata": {
        "id": "8Cm6O_TfF0uV"
      }
    },
    {
      "cell_type": "code",
      "source": [
        "def sentences_to_indices(X, word_to_index, max_len):\n",
        "    \"\"\"\n",
        "    Converts an array of sentences (strings) into an array of indices corresponding to words in the sentences.\n",
        "    The output shape should be such that it can be given to `Embedding()`\n",
        "    \n",
        "    Arguments:\n",
        "    X -- array of sentences (strings), of shape (m, 1)\n",
        "    word_to_index -- a dictionary containing the each word mapped to its index\n",
        "    max_len -- maximum number of words in a sentence. You can assume every sentence in X is no longer than this. \n",
        "    \n",
        "    Returns:\n",
        "    X_indices -- array of indices corresponding to words in the sentences from X, of shape (m, max_len)\n",
        "    \"\"\"\n",
        "    \n",
        "    m = X.shape[0]                                   # number of training examples\n",
        "    \n",
        "    X_indices = np.zeros([m,max_len])\n",
        "    \n",
        "    for i in range(m):                               # loop over training examples\n",
        "        \n",
        "        sentence_words = X[i].lower().split()\n",
        "        j = 0\n",
        "        for w in sentence_words:\n",
        "            # if w exists in the word_to_index dictionary\n",
        "            if w in word_to_index:\n",
        "                # Set the (i,j)th entry of X_indices to the index of the correct word.\n",
        "                X_indices[i, j] = word_to_index[w]\n",
        "                # Increment j to j + 1\n",
        "                j =  j+1\n",
        "    return X_indices"
      ],
      "metadata": {
        "id": "CJ39G13kB6z2"
      },
      "execution_count": 41,
      "outputs": []
    },
    {
      "cell_type": "code",
      "source": [
        "X1 = np.array([\"funny lol\", \"lets play baseball\", \"food is ready for you\"])\n",
        "X1_indices = sentences_to_indices(X1, word_to_index, max_len=5)\n",
        "print(\"X1 =\", X1)\n",
        "print(\"X1_indices =\\n\", X1_indices)"
      ],
      "metadata": {
        "colab": {
          "base_uri": "https://localhost:8080/"
        },
        "id": "li27jnIdKon1",
        "outputId": "d4acf8a4-45e4-4216-cb48-a7f682bc2d9f"
      },
      "execution_count": 42,
      "outputs": [
        {
          "output_type": "stream",
          "name": "stdout",
          "text": [
            "X1 = ['funny lol' 'lets play baseball' 'food is ready for you']\n",
            "X1_indices =\n",
            " [[155345. 225122.      0.      0.      0.]\n",
            " [220930. 286375.  69714.      0.      0.]\n",
            " [151204. 192973. 302254. 151349. 394475.]]\n"
          ]
        }
      ]
    },
    {
      "cell_type": "code",
      "source": [
        "def pretrained_embedding_layer(word_to_vec_map, word_to_index):\n",
        "    \"\"\"\n",
        "    Creates a Keras Embedding() layer and loads in pre-trained GloVe 50-dimensional vectors.\n",
        "    \n",
        "    Arguments:\n",
        "    word_to_vec_map -- dictionary mapping words to their GloVe vector representation.\n",
        "    word_to_index -- dictionary mapping from words to their indices in the vocabulary (400,001 words)\n",
        "\n",
        "    Returns:\n",
        "    embedding_layer -- pretrained layer Keras instance\n",
        "    \"\"\"\n",
        "    \n",
        "    vocab_size = len(word_to_index) + 1              # adding 1 to fit Keras embedding (requirement)\n",
        "    any_word = list(word_to_vec_map.keys())[0]\n",
        "    emb_dim = word_to_vec_map[any_word].shape[0]    # define dimensionality of your GloVe word vectors (= 50)\n",
        "      \n",
        "    # Initialize the embedding matrix as a numpy array of zeros.\n",
        "    emb_matrix = np.zeros([vocab_size,emb_dim])\n",
        "\n",
        "    # the word vector representation of the idx'th word of the vocabulary\n",
        "    for word, idx in word_to_index.items():\n",
        "        emb_matrix[idx, :] = word_to_vec_map[word]\n",
        "    # keras embedding layer\n",
        "    embedding_layer = Embedding(vocab_size, emb_dim ,trainable = False)\n",
        "    # Building the embedding layer, it is required before setting the weights of the embedding layer. \n",
        "    embedding_layer.build((None,)) \n",
        "    \n",
        "    # Setting the weights of the embedding layer to the embedding matrix.\n",
        "    embedding_layer.set_weights([emb_matrix])\n",
        "    \n",
        "    return embedding_layer"
      ],
      "metadata": {
        "id": "cyJ2xjdGKuXA"
      },
      "execution_count": 43,
      "outputs": []
    },
    {
      "cell_type": "markdown",
      "source": [
        "#2.2 Building the Emojifier-V2\n",
        "\n"
      ],
      "metadata": {
        "id": "ugsEEIdiNKFr"
      }
    },
    {
      "cell_type": "code",
      "source": [
        "def Emojify_V2(input_shape, word_to_vec_map, word_to_index):\n",
        "    \"\"\"\n",
        "    Function creating the Emojify-v2 model's graph.\n",
        "    \n",
        "    Arguments:\n",
        "    input_shape -- shape of the input, usually (max_len,)\n",
        "    word_to_vec_map -- dictionary mapping every word in a vocabulary into its 50-dimensional vector representation\n",
        "    word_to_index -- dictionary mapping from words to their indices in the vocabulary (400,001 words)\n",
        "\n",
        "    Returns:\n",
        "    model -- a model instance in Keras\n",
        "    \"\"\"\n",
        "    \n",
        "    sentence_indices = Input(shape=input_shape,dtype='int32')\n",
        "    # Creating the embedding layer pretrained with GloVe Vectors \n",
        "    embedding_layer = pretrained_embedding_layer(word_to_vec_map, word_to_index)\n",
        "    # Propagate sentence_indices through the embedding layer\n",
        "    embeddings = embedding_layer(sentence_indices)   \n",
        "    X = LSTM(units=128,return_sequences = True)(embeddings)\n",
        "    X = Dropout(0.5)(X)\n",
        "    X = LSTM(units=128,return_sequences = False)(X)\n",
        "    X = Dropout(0.5)(X)\n",
        "    X = Dense(5)(X)\n",
        "    X = Activation('softmax')(X)\n",
        "    # Create Model instance which converts sentence_indices into X.\n",
        "    model = Model(inputs=sentence_indices,outputs=X)\n",
        "    return model"
      ],
      "metadata": {
        "id": "_feI4SSjL7Wz"
      },
      "execution_count": 44,
      "outputs": []
    },
    {
      "cell_type": "code",
      "source": [
        "maxLen=10\n",
        "model = Emojify_V2((maxLen,), word_to_vec_map, word_to_index)\n",
        "model.summary()"
      ],
      "metadata": {
        "colab": {
          "base_uri": "https://localhost:8080/"
        },
        "id": "8TAMEWUHOjvZ",
        "outputId": "1b436ccc-e187-450a-f706-741a1fcdf491"
      },
      "execution_count": 46,
      "outputs": [
        {
          "output_type": "stream",
          "name": "stdout",
          "text": [
            "Model: \"model\"\n",
            "_________________________________________________________________\n",
            " Layer (type)                Output Shape              Param #   \n",
            "=================================================================\n",
            " input_1 (InputLayer)        [(None, 10)]              0         \n",
            "                                                                 \n",
            " embedding (Embedding)       (None, 10, 50)            20000050  \n",
            "                                                                 \n",
            " lstm (LSTM)                 (None, 10, 128)           91648     \n",
            "                                                                 \n",
            " dropout (Dropout)           (None, 10, 128)           0         \n",
            "                                                                 \n",
            " lstm_1 (LSTM)               (None, 128)               131584    \n",
            "                                                                 \n",
            " dropout_1 (Dropout)         (None, 128)               0         \n",
            "                                                                 \n",
            " dense (Dense)               (None, 5)                 645       \n",
            "                                                                 \n",
            " activation (Activation)     (None, 5)                 0         \n",
            "                                                                 \n",
            "=================================================================\n",
            "Total params: 20,223,927\n",
            "Trainable params: 223,877\n",
            "Non-trainable params: 20,000,050\n",
            "_________________________________________________________________\n"
          ]
        }
      ]
    },
    {
      "cell_type": "code",
      "source": [
        "model.compile(loss='categorical_crossentropy', optimizer='adam', metrics=['accuracy'])"
      ],
      "metadata": {
        "id": "2zk0xys5OxTJ"
      },
      "execution_count": 47,
      "outputs": []
    },
    {
      "cell_type": "markdown",
      "source": [
        "#2.3 Training the Model"
      ],
      "metadata": {
        "id": "92LNY6buPeYk"
      }
    },
    {
      "cell_type": "code",
      "source": [
        "X_train_indices = sentences_to_indices(X_train, word_to_index, maxLen)\n",
        "Y_train_oh = convert_to_one_hot(Y_train, C = 5)"
      ],
      "metadata": {
        "id": "HIJzOntXPbAd"
      },
      "execution_count": 48,
      "outputs": []
    },
    {
      "cell_type": "code",
      "source": [
        "model.fit(X_train_indices, Y_train_oh, epochs = 100, batch_size = 32, shuffle=True)\n"
      ],
      "metadata": {
        "colab": {
          "base_uri": "https://localhost:8080/"
        },
        "id": "g4BvcwMSPnTF",
        "outputId": "9589da95-0ed8-460e-e0eb-b6dda33e39bd"
      },
      "execution_count": 49,
      "outputs": [
        {
          "output_type": "stream",
          "name": "stdout",
          "text": [
            "Epoch 1/100\n",
            "5/5 [==============================] - 8s 12ms/step - loss: 1.5830 - accuracy: 0.2652\n",
            "Epoch 2/100\n",
            "5/5 [==============================] - 0s 12ms/step - loss: 1.5073 - accuracy: 0.3409\n",
            "Epoch 3/100\n",
            "5/5 [==============================] - 0s 11ms/step - loss: 1.4764 - accuracy: 0.3182\n",
            "Epoch 4/100\n",
            "5/5 [==============================] - 0s 11ms/step - loss: 1.3675 - accuracy: 0.4015\n",
            "Epoch 5/100\n",
            "5/5 [==============================] - 0s 11ms/step - loss: 1.3045 - accuracy: 0.5076\n",
            "Epoch 6/100\n",
            "5/5 [==============================] - 0s 11ms/step - loss: 1.2007 - accuracy: 0.5379\n",
            "Epoch 7/100\n",
            "5/5 [==============================] - 0s 11ms/step - loss: 1.0417 - accuracy: 0.6136\n",
            "Epoch 8/100\n",
            "5/5 [==============================] - 0s 12ms/step - loss: 0.9306 - accuracy: 0.6591\n",
            "Epoch 9/100\n",
            "5/5 [==============================] - 0s 11ms/step - loss: 0.8347 - accuracy: 0.6515\n",
            "Epoch 10/100\n",
            "5/5 [==============================] - 0s 12ms/step - loss: 0.7825 - accuracy: 0.7045\n",
            "Epoch 11/100\n",
            "5/5 [==============================] - 0s 11ms/step - loss: 0.7101 - accuracy: 0.7500\n",
            "Epoch 12/100\n",
            "5/5 [==============================] - 0s 11ms/step - loss: 0.7703 - accuracy: 0.7121\n",
            "Epoch 13/100\n",
            "5/5 [==============================] - 0s 11ms/step - loss: 0.6591 - accuracy: 0.7348\n",
            "Epoch 14/100\n",
            "5/5 [==============================] - 0s 13ms/step - loss: 0.5570 - accuracy: 0.7955\n",
            "Epoch 15/100\n",
            "5/5 [==============================] - 0s 11ms/step - loss: 0.5322 - accuracy: 0.8106\n",
            "Epoch 16/100\n",
            "5/5 [==============================] - 0s 11ms/step - loss: 0.4973 - accuracy: 0.8409\n",
            "Epoch 17/100\n",
            "5/5 [==============================] - 0s 11ms/step - loss: 0.4372 - accuracy: 0.8485\n",
            "Epoch 18/100\n",
            "5/5 [==============================] - 0s 12ms/step - loss: 0.3837 - accuracy: 0.8712\n",
            "Epoch 19/100\n",
            "5/5 [==============================] - 0s 11ms/step - loss: 0.3286 - accuracy: 0.8939\n",
            "Epoch 20/100\n",
            "5/5 [==============================] - 0s 11ms/step - loss: 0.3890 - accuracy: 0.8788\n",
            "Epoch 21/100\n",
            "5/5 [==============================] - 0s 11ms/step - loss: 0.4185 - accuracy: 0.8409\n",
            "Epoch 22/100\n",
            "5/5 [==============================] - 0s 12ms/step - loss: 0.3072 - accuracy: 0.8864\n",
            "Epoch 23/100\n",
            "5/5 [==============================] - 0s 12ms/step - loss: 0.3802 - accuracy: 0.8864\n",
            "Epoch 24/100\n",
            "5/5 [==============================] - 0s 11ms/step - loss: 0.2559 - accuracy: 0.8939\n",
            "Epoch 25/100\n",
            "5/5 [==============================] - 0s 12ms/step - loss: 0.2622 - accuracy: 0.9242\n",
            "Epoch 26/100\n",
            "5/5 [==============================] - 0s 12ms/step - loss: 0.2061 - accuracy: 0.9394\n",
            "Epoch 27/100\n",
            "5/5 [==============================] - 0s 11ms/step - loss: 0.1663 - accuracy: 0.9242\n",
            "Epoch 28/100\n",
            "5/5 [==============================] - 0s 11ms/step - loss: 0.1603 - accuracy: 0.9470\n",
            "Epoch 29/100\n",
            "5/5 [==============================] - 0s 11ms/step - loss: 0.1594 - accuracy: 0.9621\n",
            "Epoch 30/100\n",
            "5/5 [==============================] - 0s 11ms/step - loss: 0.0958 - accuracy: 0.9924\n",
            "Epoch 31/100\n",
            "5/5 [==============================] - 0s 11ms/step - loss: 0.0790 - accuracy: 0.9773\n",
            "Epoch 32/100\n",
            "5/5 [==============================] - 0s 11ms/step - loss: 0.0878 - accuracy: 0.9773\n",
            "Epoch 33/100\n",
            "5/5 [==============================] - 0s 11ms/step - loss: 0.0509 - accuracy: 0.9924\n",
            "Epoch 34/100\n",
            "5/5 [==============================] - 0s 11ms/step - loss: 0.0859 - accuracy: 0.9697\n",
            "Epoch 35/100\n",
            "5/5 [==============================] - 0s 11ms/step - loss: 0.0917 - accuracy: 0.9545\n",
            "Epoch 36/100\n",
            "5/5 [==============================] - 0s 12ms/step - loss: 0.2150 - accuracy: 0.9394\n",
            "Epoch 37/100\n",
            "5/5 [==============================] - 0s 11ms/step - loss: 0.2270 - accuracy: 0.9242\n",
            "Epoch 38/100\n",
            "5/5 [==============================] - 0s 11ms/step - loss: 0.1428 - accuracy: 0.9470\n",
            "Epoch 39/100\n",
            "5/5 [==============================] - 0s 12ms/step - loss: 0.1174 - accuracy: 0.9545\n",
            "Epoch 40/100\n",
            "5/5 [==============================] - 0s 12ms/step - loss: 0.0704 - accuracy: 0.9773\n",
            "Epoch 41/100\n",
            "5/5 [==============================] - 0s 11ms/step - loss: 0.0521 - accuracy: 0.9848\n",
            "Epoch 42/100\n",
            "5/5 [==============================] - 0s 11ms/step - loss: 0.0277 - accuracy: 1.0000\n",
            "Epoch 43/100\n",
            "5/5 [==============================] - 0s 11ms/step - loss: 0.0296 - accuracy: 1.0000\n",
            "Epoch 44/100\n",
            "5/5 [==============================] - 0s 11ms/step - loss: 0.0314 - accuracy: 1.0000\n",
            "Epoch 45/100\n",
            "5/5 [==============================] - 0s 11ms/step - loss: 0.0209 - accuracy: 1.0000\n",
            "Epoch 46/100\n",
            "5/5 [==============================] - 0s 11ms/step - loss: 0.0192 - accuracy: 1.0000\n",
            "Epoch 47/100\n",
            "5/5 [==============================] - 0s 11ms/step - loss: 0.0122 - accuracy: 1.0000\n",
            "Epoch 48/100\n",
            "5/5 [==============================] - 0s 11ms/step - loss: 0.0148 - accuracy: 1.0000\n",
            "Epoch 49/100\n",
            "5/5 [==============================] - 0s 11ms/step - loss: 0.0066 - accuracy: 1.0000\n",
            "Epoch 50/100\n",
            "5/5 [==============================] - 0s 11ms/step - loss: 0.0073 - accuracy: 1.0000\n",
            "Epoch 51/100\n",
            "5/5 [==============================] - 0s 12ms/step - loss: 0.0042 - accuracy: 1.0000\n",
            "Epoch 52/100\n",
            "5/5 [==============================] - 0s 11ms/step - loss: 0.0088 - accuracy: 1.0000\n",
            "Epoch 53/100\n",
            "5/5 [==============================] - 0s 15ms/step - loss: 0.0079 - accuracy: 1.0000\n",
            "Epoch 54/100\n",
            "5/5 [==============================] - 0s 13ms/step - loss: 0.0038 - accuracy: 1.0000\n",
            "Epoch 55/100\n",
            "5/5 [==============================] - 0s 10ms/step - loss: 0.0052 - accuracy: 1.0000\n",
            "Epoch 56/100\n",
            "5/5 [==============================] - 0s 12ms/step - loss: 0.0046 - accuracy: 1.0000\n",
            "Epoch 57/100\n",
            "5/5 [==============================] - 0s 11ms/step - loss: 0.0032 - accuracy: 1.0000\n",
            "Epoch 58/100\n",
            "5/5 [==============================] - 0s 11ms/step - loss: 0.0029 - accuracy: 1.0000\n",
            "Epoch 59/100\n",
            "5/5 [==============================] - 0s 11ms/step - loss: 0.0035 - accuracy: 1.0000\n",
            "Epoch 60/100\n",
            "5/5 [==============================] - 0s 11ms/step - loss: 0.0033 - accuracy: 1.0000\n",
            "Epoch 61/100\n",
            "5/5 [==============================] - 0s 11ms/step - loss: 0.0070 - accuracy: 1.0000\n",
            "Epoch 62/100\n",
            "5/5 [==============================] - 0s 11ms/step - loss: 0.0077 - accuracy: 1.0000\n",
            "Epoch 63/100\n",
            "5/5 [==============================] - 0s 12ms/step - loss: 0.0075 - accuracy: 1.0000\n",
            "Epoch 64/100\n",
            "5/5 [==============================] - 0s 11ms/step - loss: 0.0294 - accuracy: 0.9924\n",
            "Epoch 65/100\n",
            "5/5 [==============================] - 0s 11ms/step - loss: 0.0164 - accuracy: 0.9924\n",
            "Epoch 66/100\n",
            "5/5 [==============================] - 0s 12ms/step - loss: 0.0146 - accuracy: 0.9924\n",
            "Epoch 67/100\n",
            "5/5 [==============================] - 0s 12ms/step - loss: 0.0114 - accuracy: 0.9924\n",
            "Epoch 68/100\n",
            "5/5 [==============================] - 0s 11ms/step - loss: 0.0070 - accuracy: 1.0000\n",
            "Epoch 69/100\n",
            "5/5 [==============================] - 0s 11ms/step - loss: 0.0125 - accuracy: 0.9924\n",
            "Epoch 70/100\n",
            "5/5 [==============================] - 0s 12ms/step - loss: 0.0458 - accuracy: 0.9773\n",
            "Epoch 71/100\n",
            "5/5 [==============================] - 0s 11ms/step - loss: 0.0985 - accuracy: 0.9621\n",
            "Epoch 72/100\n",
            "5/5 [==============================] - 0s 12ms/step - loss: 0.0644 - accuracy: 0.9773\n",
            "Epoch 73/100\n",
            "5/5 [==============================] - 0s 12ms/step - loss: 0.1758 - accuracy: 0.9167\n",
            "Epoch 74/100\n",
            "5/5 [==============================] - 0s 11ms/step - loss: 0.1322 - accuracy: 0.9318\n",
            "Epoch 75/100\n",
            "5/5 [==============================] - 0s 11ms/step - loss: 0.2587 - accuracy: 0.9242\n",
            "Epoch 76/100\n",
            "5/5 [==============================] - 0s 11ms/step - loss: 0.2517 - accuracy: 0.9242\n",
            "Epoch 77/100\n",
            "5/5 [==============================] - 0s 11ms/step - loss: 0.2152 - accuracy: 0.9318\n",
            "Epoch 78/100\n",
            "5/5 [==============================] - 0s 12ms/step - loss: 0.1293 - accuracy: 0.9621\n",
            "Epoch 79/100\n",
            "5/5 [==============================] - 0s 11ms/step - loss: 0.1502 - accuracy: 0.9318\n",
            "Epoch 80/100\n",
            "5/5 [==============================] - 0s 11ms/step - loss: 0.1918 - accuracy: 0.9167\n",
            "Epoch 81/100\n",
            "5/5 [==============================] - 0s 13ms/step - loss: 0.0984 - accuracy: 0.9545\n",
            "Epoch 82/100\n",
            "5/5 [==============================] - 0s 11ms/step - loss: 0.0997 - accuracy: 0.9697\n",
            "Epoch 83/100\n",
            "5/5 [==============================] - 0s 11ms/step - loss: 0.0463 - accuracy: 0.9924\n",
            "Epoch 84/100\n",
            "5/5 [==============================] - 0s 11ms/step - loss: 0.0562 - accuracy: 0.9773\n",
            "Epoch 85/100\n",
            "5/5 [==============================] - 0s 11ms/step - loss: 0.0373 - accuracy: 0.9924\n",
            "Epoch 86/100\n",
            "5/5 [==============================] - 0s 11ms/step - loss: 0.0223 - accuracy: 0.9924\n",
            "Epoch 87/100\n",
            "5/5 [==============================] - 0s 11ms/step - loss: 0.0252 - accuracy: 1.0000\n",
            "Epoch 88/100\n",
            "5/5 [==============================] - 0s 11ms/step - loss: 0.0106 - accuracy: 1.0000\n",
            "Epoch 89/100\n",
            "5/5 [==============================] - 0s 11ms/step - loss: 0.0093 - accuracy: 1.0000\n",
            "Epoch 90/100\n",
            "5/5 [==============================] - 0s 11ms/step - loss: 0.0072 - accuracy: 1.0000\n",
            "Epoch 91/100\n",
            "5/5 [==============================] - 0s 12ms/step - loss: 0.0119 - accuracy: 1.0000\n",
            "Epoch 92/100\n",
            "5/5 [==============================] - 0s 12ms/step - loss: 0.0055 - accuracy: 1.0000\n",
            "Epoch 93/100\n",
            "5/5 [==============================] - 0s 12ms/step - loss: 0.0044 - accuracy: 1.0000\n",
            "Epoch 94/100\n",
            "5/5 [==============================] - 0s 13ms/step - loss: 0.0036 - accuracy: 1.0000\n",
            "Epoch 95/100\n",
            "5/5 [==============================] - 0s 11ms/step - loss: 0.0048 - accuracy: 1.0000\n",
            "Epoch 96/100\n",
            "5/5 [==============================] - 0s 11ms/step - loss: 0.0030 - accuracy: 1.0000\n",
            "Epoch 97/100\n",
            "5/5 [==============================] - 0s 11ms/step - loss: 0.0136 - accuracy: 0.9924\n",
            "Epoch 98/100\n",
            "5/5 [==============================] - 0s 11ms/step - loss: 0.0032 - accuracy: 1.0000\n",
            "Epoch 99/100\n",
            "5/5 [==============================] - 0s 12ms/step - loss: 0.0192 - accuracy: 0.9848\n",
            "Epoch 100/100\n",
            "5/5 [==============================] - 0s 11ms/step - loss: 0.0027 - accuracy: 1.0000\n"
          ]
        },
        {
          "output_type": "execute_result",
          "data": {
            "text/plain": [
              "<keras.callbacks.History at 0x7f52ab763dd0>"
            ]
          },
          "metadata": {},
          "execution_count": 49
        }
      ]
    },
    {
      "cell_type": "code",
      "source": [
        "X_test_indices = sentences_to_indices(X_test, word_to_index, max_len = maxLen)\n",
        "Y_test_oh = convert_to_one_hot(Y_test, C = 5)\n",
        "loss, acc = model.evaluate(X_test_indices, Y_test_oh)\n",
        "print()\n",
        "print(\"Test accuracy = \", acc)"
      ],
      "metadata": {
        "colab": {
          "base_uri": "https://localhost:8080/"
        },
        "id": "Wey32IKDPs-r",
        "outputId": "e8cb3cc9-d2cd-4605-d847-5ec385516ed4"
      },
      "execution_count": 50,
      "outputs": [
        {
          "output_type": "stream",
          "name": "stdout",
          "text": [
            "2/2 [==============================] - 1s 12ms/step - loss: 0.7174 - accuracy: 0.8036\n",
            "\n",
            "Test accuracy =  0.8035714030265808\n"
          ]
        }
      ]
    },
    {
      "cell_type": "code",
      "source": [
        "C = 5\n",
        "y_test_oh = np.eye(C)[Y_test.reshape(-1)]\n",
        "X_test_indices = sentences_to_indices(X_test, word_to_index, maxLen)\n",
        "pred = model.predict(X_test_indices)\n",
        "for i in range(len(X_test)):\n",
        "    x = X_test_indices\n",
        "    num = np.argmax(pred[i])\n",
        "    if(num != Y_test[i]):\n",
        "        print('Expected emoji:'+ label_to_emoji(Y_test[i]) + ' prediction: '+ X_test[i] + label_to_emoji(num).strip())"
      ],
      "metadata": {
        "colab": {
          "base_uri": "https://localhost:8080/"
        },
        "id": "jo7PgDgWP3Kz",
        "outputId": "e710f9c2-4b4f-46d2-a45c-842c70c31572"
      },
      "execution_count": 51,
      "outputs": [
        {
          "output_type": "stream",
          "name": "stdout",
          "text": [
            "Expected emoji:😄 prediction: he got a very nice raise\t❤️\n",
            "Expected emoji:😄 prediction: she got me a nice present\t❤️\n",
            "Expected emoji:😞 prediction: work is hard\t😄\n",
            "Expected emoji:😞 prediction: This girl is messing with me\t❤️\n",
            "Expected emoji:😞 prediction: work is horrible\t😄\n",
            "Expected emoji:❤️ prediction: I love taking breaks\t😞\n",
            "Expected emoji:😄 prediction: you brighten my day\t❤️\n",
            "Expected emoji:😞 prediction: she is a bully\t❤️\n",
            "Expected emoji:😄 prediction: will you be my valentine\t❤️\n",
            "Expected emoji:😞 prediction: go away\t⚾\n",
            "Expected emoji:❤️ prediction: family is all I have\t🍴\n"
          ]
        }
      ]
    },
    {
      "cell_type": "code",
      "source": [
        "x_test = np.array([\"What are you eating?\"])\n",
        "X_test_indices = sentences_to_indices(x_test, word_to_index, maxLen)\n",
        "print(x_test[0] +' '+  label_to_emoji(np.argmax(model.predict(X_test_indices))))"
      ],
      "metadata": {
        "colab": {
          "base_uri": "https://localhost:8080/"
        },
        "id": "-wROm453QCNE",
        "outputId": "5009ee4d-772e-49fa-e4af-5311ae73d280"
      },
      "execution_count": 53,
      "outputs": [
        {
          "output_type": "stream",
          "name": "stdout",
          "text": [
            "What are you eating? 😞\n"
          ]
        }
      ]
    },
    {
      "cell_type": "code",
      "source": [
        ""
      ],
      "metadata": {
        "id": "1zS-2E8ZQLF4"
      },
      "execution_count": null,
      "outputs": []
    }
  ]
}